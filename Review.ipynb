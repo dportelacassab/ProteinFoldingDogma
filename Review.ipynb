{
 "cells": [
  {
   "cell_type": "markdown",
   "id": "33205f8b",
   "metadata": {},
   "source": [
    "#### Codons\n",
    "\n",
    "Codons := 'sequences of 3 nucleotides'.\n",
    "\n",
    "Nucleotides := 'are organic molecules composed of a nitrogenous base(Nucleo Basis), penthose sugar and one phosphate group'.\n",
    "\n",
    "$\n",
    "\\begin{equation}\n",
    " =\n",
    "    \\begin{cases}\n",
    "       \\text{Nucleobasis} & \\text{are nitrogen-containing biological compounds that form nucleosides.\n",
    "       5 nucleobases are called primary or canonical: Adenine(A), Cytosine(C), Guanine(G), Thymine(T), Uracil(U). They function as the fundamental units of the genetic code. } \\\\\n",
    "        \\text{pentose sugar} & \\text{ is a monosaccharide(simple sugar) with five carbon atoms. } \\\\\n",
    "        \\text{phosphate} & \\text{ is an anion, salt, functional group or ester derived from phosphoric acid. Anion -- an ion that has more electrons than protons, giving it a net negative charge(Anion (-)). }\\\\\n",
    "    \\end{cases}\n",
    "\\end{equation}$\n",
    "\n",
    "There are 4 types of nucleotides. Codons = _4_  _4_  _4_ = 64 possible codons.\n",
    "\n",
    "61 of them are called sense codons (meaning, they specify aminoacids)\n",
    "\n",
    "20 amino acids - but 61 codons that make sense to aminoacids sooo some of them have the same sense.\n",
    "Example: GCU - alanine - GCA - GCG\n",
    "\n",
    "3 of them are called stop codons because they give a signal to the ribosome to stop translation.\n",
    "\n",
    "#### Amino Acids\n",
    "\n",
    "Amino Acids := 'are organic compunds that contain both amino and carboxilic functional groups.'\n",
    "\n",
    "Amines := 'are compounds and functional groups that contain a basic nitrogren atom with a lone pair(pair of valence electrones that are not shared with another atom in a covalent bond and is sometimes called an unshared pair.) Amines are formally derivatives of ammonia (NH3), wherein one or more hydrogen atoms have been replaced by a substituent such us an atyl or aryl group. IMPORTANT amines include: amino acids, biogenic amines, trimethylamine and aniline.'\n",
    "\n",
    "Functional Group := 'is a substituent or moiety(a part of a molecule) in a molecule that causes the molecules characteristics chemical reactions.'\n",
    "\n",
    "Molecule := 'is a group of two or more atoms held together by attractive forces known as chemical bonds.'"
   ]
  },
  {
   "cell_type": "markdown",
   "id": "a0a31054",
   "metadata": {},
   "source": [
    "## Protein Folding"
   ]
  },
  {
   "cell_type": "code",
   "execution_count": null,
   "id": "d5c9fb19",
   "metadata": {},
   "outputs": [],
   "source": []
  },
  {
   "cell_type": "markdown",
   "id": "8f66f7e8",
   "metadata": {},
   "source": [
    "Given Two statistical samples X = $\\{x_i\\}_{i=1}^{N_X}$ and Y = $\\{y_i\\}_{i=1}^{N_Y}$\n",
    "\n",
    "We wish to test wether the observations in both samples were obtained from the same underlying data distribution.\n",
    "\n",
    "In order to avoid making unfounded assumptions about the data or compromising on the choice of test statistics we employed a permutation bases two sample hypothesis test."
   ]
  },
  {
   "cell_type": "markdown",
   "id": "5eb516bc",
   "metadata": {},
   "source": [
    "### Permutation Test\n",
    "For independent sample statistics, the null hypothesis is that the data are randomly sampled from the same distribution. For paired sample statistics, two null hypothesis can be tested: that the data are paired at random or that the data are assigned to samples at random."
   ]
  },
  {
   "cell_type": "markdown",
   "id": "41989e27",
   "metadata": {},
   "source": []
  },
  {
   "cell_type": "code",
   "execution_count": 1,
   "id": "dfa2a587",
   "metadata": {},
   "outputs": [],
   "source": [
    "import numpy as np\n",
    "from scipy.stats import norm"
   ]
  },
  {
   "cell_type": "code",
   "execution_count": 3,
   "id": "a8049998",
   "metadata": {},
   "outputs": [
    {
     "name": "stdout",
     "output_type": "stream",
     "text": [
      "rng: Generator(PCG64)\n"
     ]
    }
   ],
   "source": [
    "rng = np.random.default_rng()\n",
    "print(f'rng: {rng}')"
   ]
  },
  {
   "cell_type": "code",
   "execution_count": 4,
   "id": "414575a6",
   "metadata": {},
   "outputs": [],
   "source": [
    "x = norm.rvs(size=5, random_state=rng)\n",
    "y = norm.rvs(size=6, loc = 3, random_state=rng)"
   ]
  },
  {
   "cell_type": "code",
   "execution_count": 6,
   "id": "6095c1ca",
   "metadata": {},
   "outputs": [
    {
     "data": {
      "text/plain": [
       "array([4.26754011, 3.31859953, 3.29312458, 1.64846   , 3.40276707,\n",
       "       3.64523936])"
      ]
     },
     "execution_count": 6,
     "metadata": {},
     "output_type": "execute_result"
    }
   ],
   "source": [
    "y"
   ]
  },
  {
   "cell_type": "code",
   "execution_count": 7,
   "id": "e6336f9c",
   "metadata": {},
   "outputs": [],
   "source": [
    "def statistic(x, y, axis):\n",
    "    return np.mean(x, axis=axis) - np.mean(y, axis=axis)"
   ]
  },
  {
   "cell_type": "code",
   "execution_count": 9,
   "id": "513ac7b4",
   "metadata": {},
   "outputs": [
    {
     "data": {
      "text/plain": [
       "-3.3864418260222346"
      ]
     },
     "execution_count": 9,
     "metadata": {},
     "output_type": "execute_result"
    }
   ],
   "source": [
    "statistic(x,y,0)"
   ]
  },
  {
   "cell_type": "code",
   "execution_count": 11,
   "id": "babef092",
   "metadata": {},
   "outputs": [],
   "source": [
    "from scipy.stats import permutation_test"
   ]
  },
  {
   "cell_type": "code",
   "execution_count": 13,
   "id": "74f6d48a",
   "metadata": {},
   "outputs": [],
   "source": [
    "res = permutation_test((x, y), statistic, vectorized=True,n_resamples=np.inf, alternative='less')"
   ]
  },
  {
   "cell_type": "code",
   "execution_count": 14,
   "id": "18ab5109",
   "metadata": {},
   "outputs": [
    {
     "name": "stdout",
     "output_type": "stream",
     "text": [
      "stat:-3.3864418260222346\n"
     ]
    }
   ],
   "source": [
    "print(f'stat:{ res.statistic}')"
   ]
  },
  {
   "cell_type": "code",
   "execution_count": 15,
   "id": "51b74595",
   "metadata": {},
   "outputs": [
    {
     "name": "stdout",
     "output_type": "stream",
     "text": [
      "p-value:0.0021645021645021645\n"
     ]
    }
   ],
   "source": [
    "print(f'p-value:{ res.pvalue}')"
   ]
  },
  {
   "cell_type": "markdown",
   "id": "bd4349bf",
   "metadata": {},
   "source": [
    "Since p-value $= 0.0021 < 0.05 = \\alpha$ then there is enough evidence to reject $H_0$ that the samples were selected from the same probability distribution."
   ]
  },
  {
   "cell_type": "code",
   "execution_count": null,
   "id": "833b773e",
   "metadata": {},
   "outputs": [],
   "source": []
  },
  {
   "cell_type": "markdown",
   "id": "bff6119b",
   "metadata": {},
   "source": [
    "### Permutation Test By Hand"
   ]
  },
  {
   "cell_type": "markdown",
   "id": "29a2017a",
   "metadata": {},
   "source": [
    "https://medium.com/@whystudying/resampling-with-python-permutation-test-19421dc38dac"
   ]
  },
  {
   "cell_type": "code",
   "execution_count": 20,
   "id": "bd5493f3",
   "metadata": {},
   "outputs": [
    {
     "data": {
      "text/plain": [
       "array([-0.86308853, -0.263746  , -0.61461525, -0.22165073,  1.34400027,\n",
       "        4.26754011,  3.31859953,  3.29312458,  1.64846   ,  3.40276707,\n",
       "        3.64523936])"
      ]
     },
     "execution_count": 20,
     "metadata": {},
     "output_type": "execute_result"
    }
   ],
   "source": [
    "type(x)\n",
    "len(x)\n",
    "np.concatenate((x, y), axis=0)"
   ]
  },
  {
   "cell_type": "code",
   "execution_count": 22,
   "id": "bcd790e8",
   "metadata": {},
   "outputs": [
    {
     "data": {
      "text/plain": [
       "array([-0.86308853, -0.263746  , -0.61461525, -0.22165073,  1.34400027])"
      ]
     },
     "execution_count": 22,
     "metadata": {},
     "output_type": "execute_result"
    }
   ],
   "source": [
    "x"
   ]
  },
  {
   "cell_type": "code",
   "execution_count": 17,
   "id": "9458b771",
   "metadata": {},
   "outputs": [
    {
     "ename": "SyntaxError",
     "evalue": "invalid syntax (3167449990.py, line 6)",
     "output_type": "error",
     "traceback": [
      "\u001b[1;36m  Cell \u001b[1;32mIn[17], line 6\u001b[1;36m\u001b[0m\n\u001b[1;33m    Z =\u001b[0m\n\u001b[1;37m        ^\u001b[0m\n\u001b[1;31mSyntaxError\u001b[0m\u001b[1;31m:\u001b[0m invalid syntax\n"
     ]
    }
   ],
   "source": [
    "def permutation_test(x,y,K): # K - Number of perutations\n",
    "    p_value = 0\n",
    "    Nx = len(x)\n",
    "    Ny = len(y)\n",
    "    # Pool the observations\n",
    "    Z = np.concatenate((x, y), axis=1)\n",
    "    pi = \n",
    "    return p_value"
   ]
  },
  {
   "cell_type": "code",
   "execution_count": 24,
   "id": "bbe02d21",
   "metadata": {},
   "outputs": [],
   "source": [
    "import pandas as pd"
   ]
  },
  {
   "cell_type": "code",
   "execution_count": 25,
   "id": "de86e436",
   "metadata": {},
   "outputs": [
    {
     "name": "stderr",
     "output_type": "stream",
     "text": [
      "C:\\Users\\jesus\\AppData\\Local\\Temp\\ipykernel_7164\\3181351105.py:1: DtypeWarning: Columns (2) have mixed types. Specify dtype option on import or set low_memory=False.\n",
      "  dataprecs = pd.read_csv('data-precs.csv')\n"
     ]
    }
   ],
   "source": [
    "# Raw dataset file containing non-redundant structures used for codon distribution analysis.\n",
    "dataprecs = pd.read_csv('data-precs.csv') "
   ]
  },
  {
   "cell_type": "code",
   "execution_count": 26,
   "id": "43cfcc3d",
   "metadata": {},
   "outputs": [
    {
     "data": {
      "text/html": [
       "<div>\n",
       "<style scoped>\n",
       "    .dataframe tbody tr th:only-of-type {\n",
       "        vertical-align: middle;\n",
       "    }\n",
       "\n",
       "    .dataframe tbody tr th {\n",
       "        vertical-align: top;\n",
       "    }\n",
       "\n",
       "    .dataframe thead th {\n",
       "        text-align: right;\n",
       "    }\n",
       "</style>\n",
       "<table border=\"1\" class=\"dataframe\">\n",
       "  <thead>\n",
       "    <tr style=\"text-align: right;\">\n",
       "      <th></th>\n",
       "      <th>pdb_id</th>\n",
       "      <th>unp_id</th>\n",
       "      <th>res_id</th>\n",
       "      <th>name</th>\n",
       "      <th>unp_idx</th>\n",
       "      <th>codon</th>\n",
       "      <th>codon_score</th>\n",
       "      <th>codon_opts</th>\n",
       "      <th>bfactor</th>\n",
       "      <th>secondary</th>\n",
       "      <th>phi</th>\n",
       "      <th>psi</th>\n",
       "    </tr>\n",
       "  </thead>\n",
       "  <tbody>\n",
       "    <tr>\n",
       "      <th>0</th>\n",
       "      <td>4IWN:A</td>\n",
       "      <td>P76290</td>\n",
       "      <td>19</td>\n",
       "      <td>T</td>\n",
       "      <td>18.0</td>\n",
       "      <td>ACC</td>\n",
       "      <td>1.0</td>\n",
       "      <td>ACC</td>\n",
       "      <td>40.18</td>\n",
       "      <td>-</td>\n",
       "      <td>NaN</td>\n",
       "      <td>-34.15</td>\n",
       "    </tr>\n",
       "    <tr>\n",
       "      <th>1</th>\n",
       "      <td>4IWN:A</td>\n",
       "      <td>P76290</td>\n",
       "      <td>20</td>\n",
       "      <td>F</td>\n",
       "      <td>19.0</td>\n",
       "      <td>TTT</td>\n",
       "      <td>1.0</td>\n",
       "      <td>TTT</td>\n",
       "      <td>34.37</td>\n",
       "      <td>H</td>\n",
       "      <td>-58.45</td>\n",
       "      <td>-39.93</td>\n",
       "    </tr>\n",
       "    <tr>\n",
       "      <th>2</th>\n",
       "      <td>4IWN:A</td>\n",
       "      <td>P76290</td>\n",
       "      <td>21</td>\n",
       "      <td>D</td>\n",
       "      <td>20.0</td>\n",
       "      <td>GAT</td>\n",
       "      <td>1.0</td>\n",
       "      <td>GAT</td>\n",
       "      <td>31.49</td>\n",
       "      <td>H</td>\n",
       "      <td>-57.05</td>\n",
       "      <td>-49.49</td>\n",
       "    </tr>\n",
       "    <tr>\n",
       "      <th>3</th>\n",
       "      <td>4IWN:A</td>\n",
       "      <td>P76290</td>\n",
       "      <td>22</td>\n",
       "      <td>E</td>\n",
       "      <td>21.0</td>\n",
       "      <td>GAA</td>\n",
       "      <td>1.0</td>\n",
       "      <td>GAA</td>\n",
       "      <td>30.86</td>\n",
       "      <td>H</td>\n",
       "      <td>-68.28</td>\n",
       "      <td>-34.54</td>\n",
       "    </tr>\n",
       "    <tr>\n",
       "      <th>4</th>\n",
       "      <td>4IWN:A</td>\n",
       "      <td>P76290</td>\n",
       "      <td>23</td>\n",
       "      <td>R</td>\n",
       "      <td>22.0</td>\n",
       "      <td>CGG</td>\n",
       "      <td>1.0</td>\n",
       "      <td>CGG</td>\n",
       "      <td>27.13</td>\n",
       "      <td>H</td>\n",
       "      <td>-71.99</td>\n",
       "      <td>-40.20</td>\n",
       "    </tr>\n",
       "  </tbody>\n",
       "</table>\n",
       "</div>"
      ],
      "text/plain": [
       "   pdb_id  unp_id res_id name  unp_idx codon  codon_score codon_opts  bfactor  \\\n",
       "0  4IWN:A  P76290     19    T     18.0   ACC          1.0        ACC    40.18   \n",
       "1  4IWN:A  P76290     20    F     19.0   TTT          1.0        TTT    34.37   \n",
       "2  4IWN:A  P76290     21    D     20.0   GAT          1.0        GAT    31.49   \n",
       "3  4IWN:A  P76290     22    E     21.0   GAA          1.0        GAA    30.86   \n",
       "4  4IWN:A  P76290     23    R     22.0   CGG          1.0        CGG    27.13   \n",
       "\n",
       "  secondary    phi    psi  \n",
       "0         -    NaN -34.15  \n",
       "1         H -58.45 -39.93  \n",
       "2         H -57.05 -49.49  \n",
       "3         H -68.28 -34.54  \n",
       "4         H -71.99 -40.20  "
      ]
     },
     "execution_count": 26,
     "metadata": {},
     "output_type": "execute_result"
    }
   ],
   "source": [
    "dataprecs.head()"
   ]
  },
  {
   "cell_type": "code",
   "execution_count": 27,
   "id": "ba5716e8",
   "metadata": {},
   "outputs": [
    {
     "data": {
      "text/plain": [
       "(357479, 12)"
      ]
     },
     "execution_count": 27,
     "metadata": {},
     "output_type": "execute_result"
    }
   ],
   "source": [
    "dataprecs.shape"
   ]
  },
  {
   "cell_type": "code",
   "execution_count": null,
   "id": "92747168",
   "metadata": {},
   "outputs": [],
   "source": []
  }
 ],
 "metadata": {
  "kernelspec": {
   "display_name": "Python 3 (ipykernel)",
   "language": "python",
   "name": "python3"
  },
  "language_info": {
   "codemirror_mode": {
    "name": "ipython",
    "version": 3
   },
   "file_extension": ".py",
   "mimetype": "text/x-python",
   "name": "python",
   "nbconvert_exporter": "python",
   "pygments_lexer": "ipython3",
   "version": "3.11.5"
  }
 },
 "nbformat": 4,
 "nbformat_minor": 5
}
